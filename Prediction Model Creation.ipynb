{
 "cells": [
  {
   "cell_type": "markdown",
   "id": "daca26c6-0d9a-4236-90ca-ac672bfd7fd6",
   "metadata": {},
   "source": [
    "# Importing Necessities"
   ]
  },
  {
   "cell_type": "code",
   "execution_count": 1,
   "id": "fd359b70-e219-4cda-9cf3-95fce9bd1e14",
   "metadata": {},
   "outputs": [],
   "source": [
    "import numpy as np\n",
    "import pandas as pd"
   ]
  },
  {
   "cell_type": "markdown",
   "id": "93f12dd7-a60b-48a8-a85c-068984b9fbbc",
   "metadata": {},
   "source": [
    "# Importing Dataset and Describing Dataset"
   ]
  },
  {
   "cell_type": "code",
   "execution_count": 2,
   "id": "53c0b556-e0c0-45d4-8877-466e16006c87",
   "metadata": {},
   "outputs": [],
   "source": [
    "df = pd.read_csv(\"FraudTrain.csv\", index_col=0)"
   ]
  },
  {
   "cell_type": "code",
   "execution_count": 3,
   "id": "9b32c8a1-48ca-4369-b310-86d536a26cde",
   "metadata": {},
   "outputs": [
    {
     "data": {
      "text/html": [
       "<div>\n",
       "<style scoped>\n",
       "    .dataframe tbody tr th:only-of-type {\n",
       "        vertical-align: middle;\n",
       "    }\n",
       "\n",
       "    .dataframe tbody tr th {\n",
       "        vertical-align: top;\n",
       "    }\n",
       "\n",
       "    .dataframe thead th {\n",
       "        text-align: right;\n",
       "    }\n",
       "</style>\n",
       "<table border=\"1\" class=\"dataframe\">\n",
       "  <thead>\n",
       "    <tr style=\"text-align: right;\">\n",
       "      <th></th>\n",
       "      <th>trans_date_trans_time</th>\n",
       "      <th>cc_num</th>\n",
       "      <th>merchant</th>\n",
       "      <th>category</th>\n",
       "      <th>amt</th>\n",
       "      <th>first</th>\n",
       "      <th>last</th>\n",
       "      <th>gender</th>\n",
       "      <th>street</th>\n",
       "      <th>city</th>\n",
       "      <th>...</th>\n",
       "      <th>lat</th>\n",
       "      <th>long</th>\n",
       "      <th>city_pop</th>\n",
       "      <th>job</th>\n",
       "      <th>dob</th>\n",
       "      <th>trans_num</th>\n",
       "      <th>unix_time</th>\n",
       "      <th>merch_lat</th>\n",
       "      <th>merch_long</th>\n",
       "      <th>is_fraud</th>\n",
       "    </tr>\n",
       "  </thead>\n",
       "  <tbody>\n",
       "    <tr>\n",
       "      <th>0</th>\n",
       "      <td>2019-01-01 00:00:18</td>\n",
       "      <td>2703186189652095</td>\n",
       "      <td>fraud_Rippin, Kub and Mann</td>\n",
       "      <td>misc_net</td>\n",
       "      <td>4.97</td>\n",
       "      <td>Jennifer</td>\n",
       "      <td>Banks</td>\n",
       "      <td>F</td>\n",
       "      <td>561 Perry Cove</td>\n",
       "      <td>Moravian Falls</td>\n",
       "      <td>...</td>\n",
       "      <td>36.0788</td>\n",
       "      <td>-81.1781</td>\n",
       "      <td>3495</td>\n",
       "      <td>Psychologist, counselling</td>\n",
       "      <td>1988-03-09</td>\n",
       "      <td>0b242abb623afc578575680df30655b9</td>\n",
       "      <td>1325376018</td>\n",
       "      <td>36.011293</td>\n",
       "      <td>-82.048315</td>\n",
       "      <td>0</td>\n",
       "    </tr>\n",
       "    <tr>\n",
       "      <th>1</th>\n",
       "      <td>2019-01-01 00:00:44</td>\n",
       "      <td>630423337322</td>\n",
       "      <td>fraud_Heller, Gutmann and Zieme</td>\n",
       "      <td>grocery_pos</td>\n",
       "      <td>107.23</td>\n",
       "      <td>Stephanie</td>\n",
       "      <td>Gill</td>\n",
       "      <td>F</td>\n",
       "      <td>43039 Riley Greens Suite 393</td>\n",
       "      <td>Orient</td>\n",
       "      <td>...</td>\n",
       "      <td>48.8878</td>\n",
       "      <td>-118.2105</td>\n",
       "      <td>149</td>\n",
       "      <td>Special educational needs teacher</td>\n",
       "      <td>1978-06-21</td>\n",
       "      <td>1f76529f8574734946361c461b024d99</td>\n",
       "      <td>1325376044</td>\n",
       "      <td>49.159047</td>\n",
       "      <td>-118.186462</td>\n",
       "      <td>0</td>\n",
       "    </tr>\n",
       "    <tr>\n",
       "      <th>2</th>\n",
       "      <td>2019-01-01 00:00:51</td>\n",
       "      <td>38859492057661</td>\n",
       "      <td>fraud_Lind-Buckridge</td>\n",
       "      <td>entertainment</td>\n",
       "      <td>220.11</td>\n",
       "      <td>Edward</td>\n",
       "      <td>Sanchez</td>\n",
       "      <td>M</td>\n",
       "      <td>594 White Dale Suite 530</td>\n",
       "      <td>Malad City</td>\n",
       "      <td>...</td>\n",
       "      <td>42.1808</td>\n",
       "      <td>-112.2620</td>\n",
       "      <td>4154</td>\n",
       "      <td>Nature conservation officer</td>\n",
       "      <td>1962-01-19</td>\n",
       "      <td>a1a22d70485983eac12b5b88dad1cf95</td>\n",
       "      <td>1325376051</td>\n",
       "      <td>43.150704</td>\n",
       "      <td>-112.154481</td>\n",
       "      <td>0</td>\n",
       "    </tr>\n",
       "    <tr>\n",
       "      <th>3</th>\n",
       "      <td>2019-01-01 00:01:16</td>\n",
       "      <td>3534093764340240</td>\n",
       "      <td>fraud_Kutch, Hermiston and Farrell</td>\n",
       "      <td>gas_transport</td>\n",
       "      <td>45.00</td>\n",
       "      <td>Jeremy</td>\n",
       "      <td>White</td>\n",
       "      <td>M</td>\n",
       "      <td>9443 Cynthia Court Apt. 038</td>\n",
       "      <td>Boulder</td>\n",
       "      <td>...</td>\n",
       "      <td>46.2306</td>\n",
       "      <td>-112.1138</td>\n",
       "      <td>1939</td>\n",
       "      <td>Patent attorney</td>\n",
       "      <td>1967-01-12</td>\n",
       "      <td>6b849c168bdad6f867558c3793159a81</td>\n",
       "      <td>1325376076</td>\n",
       "      <td>47.034331</td>\n",
       "      <td>-112.561071</td>\n",
       "      <td>0</td>\n",
       "    </tr>\n",
       "    <tr>\n",
       "      <th>4</th>\n",
       "      <td>2019-01-01 00:03:06</td>\n",
       "      <td>375534208663984</td>\n",
       "      <td>fraud_Keeling-Crist</td>\n",
       "      <td>misc_pos</td>\n",
       "      <td>41.96</td>\n",
       "      <td>Tyler</td>\n",
       "      <td>Garcia</td>\n",
       "      <td>M</td>\n",
       "      <td>408 Bradley Rest</td>\n",
       "      <td>Doe Hill</td>\n",
       "      <td>...</td>\n",
       "      <td>38.4207</td>\n",
       "      <td>-79.4629</td>\n",
       "      <td>99</td>\n",
       "      <td>Dance movement psychotherapist</td>\n",
       "      <td>1986-03-28</td>\n",
       "      <td>a41d7549acf90789359a9aa5346dcb46</td>\n",
       "      <td>1325376186</td>\n",
       "      <td>38.674999</td>\n",
       "      <td>-78.632459</td>\n",
       "      <td>0</td>\n",
       "    </tr>\n",
       "  </tbody>\n",
       "</table>\n",
       "<p>5 rows × 22 columns</p>\n",
       "</div>"
      ],
      "text/plain": [
       "  trans_date_trans_time            cc_num                            merchant  \\\n",
       "0   2019-01-01 00:00:18  2703186189652095          fraud_Rippin, Kub and Mann   \n",
       "1   2019-01-01 00:00:44      630423337322     fraud_Heller, Gutmann and Zieme   \n",
       "2   2019-01-01 00:00:51    38859492057661                fraud_Lind-Buckridge   \n",
       "3   2019-01-01 00:01:16  3534093764340240  fraud_Kutch, Hermiston and Farrell   \n",
       "4   2019-01-01 00:03:06   375534208663984                 fraud_Keeling-Crist   \n",
       "\n",
       "        category     amt      first     last gender  \\\n",
       "0       misc_net    4.97   Jennifer    Banks      F   \n",
       "1    grocery_pos  107.23  Stephanie     Gill      F   \n",
       "2  entertainment  220.11     Edward  Sanchez      M   \n",
       "3  gas_transport   45.00     Jeremy    White      M   \n",
       "4       misc_pos   41.96      Tyler   Garcia      M   \n",
       "\n",
       "                         street            city  ...      lat      long  \\\n",
       "0                561 Perry Cove  Moravian Falls  ...  36.0788  -81.1781   \n",
       "1  43039 Riley Greens Suite 393          Orient  ...  48.8878 -118.2105   \n",
       "2      594 White Dale Suite 530      Malad City  ...  42.1808 -112.2620   \n",
       "3   9443 Cynthia Court Apt. 038         Boulder  ...  46.2306 -112.1138   \n",
       "4              408 Bradley Rest        Doe Hill  ...  38.4207  -79.4629   \n",
       "\n",
       "   city_pop                                job         dob  \\\n",
       "0      3495          Psychologist, counselling  1988-03-09   \n",
       "1       149  Special educational needs teacher  1978-06-21   \n",
       "2      4154        Nature conservation officer  1962-01-19   \n",
       "3      1939                    Patent attorney  1967-01-12   \n",
       "4        99     Dance movement psychotherapist  1986-03-28   \n",
       "\n",
       "                          trans_num   unix_time  merch_lat  merch_long  \\\n",
       "0  0b242abb623afc578575680df30655b9  1325376018  36.011293  -82.048315   \n",
       "1  1f76529f8574734946361c461b024d99  1325376044  49.159047 -118.186462   \n",
       "2  a1a22d70485983eac12b5b88dad1cf95  1325376051  43.150704 -112.154481   \n",
       "3  6b849c168bdad6f867558c3793159a81  1325376076  47.034331 -112.561071   \n",
       "4  a41d7549acf90789359a9aa5346dcb46  1325376186  38.674999  -78.632459   \n",
       "\n",
       "   is_fraud  \n",
       "0         0  \n",
       "1         0  \n",
       "2         0  \n",
       "3         0  \n",
       "4         0  \n",
       "\n",
       "[5 rows x 22 columns]"
      ]
     },
     "execution_count": 3,
     "metadata": {},
     "output_type": "execute_result"
    }
   ],
   "source": [
    "df.head()"
   ]
  },
  {
   "cell_type": "markdown",
   "id": "db57b9ad-b68f-48b8-8bb2-ea0e7f7a1a94",
   "metadata": {},
   "source": [
    "### Description of the columns in the Dataset:\n",
    "+ trans_date_trans_time - Transaction DateTime\n",
    "+ cc_num - Credit Card Number of Customer\n",
    "+ merchant - Merchant Name\n",
    "+ category - Category of Merchant\n",
    "+ amt - Amount of Transaction\n",
    "+ first - First Name of Credit Card Holder\n",
    "+ last - Last Name of Credit Card Holder\n",
    "+ gender - Gender of Credit Card Holder\n",
    "+ street - Street Address of Credit Card Holder\n",
    "+ city - City of Credit Card Holder\n",
    "+ state - State of Credit Card Holder\n",
    "+ zip - Zip of Credit Card Holder\n",
    "+ lat - Latitude Location of Credit Card Holder\n",
    "+ long - Longitude Location of Credit Card Holder\n",
    "+ city_pop - Credit Card Holder's City Population\n",
    "+ job - Job of Credit Card Holder\n",
    "+ dob - Date of Birth of Credit Card Holder\n",
    "+ trans_num - Transaction Number\n",
    "+ unix_time - UNIX Time of transaction\n",
    "+ merch_lat - Latitude Location of Merchant\n",
    "+ merch_long - Longitude Location of Merchant\n",
    "+ is_fraud - Fraud Flag"
   ]
  },
  {
   "cell_type": "markdown",
   "id": "a9053e83-6911-447a-a9fb-a6d8baaed17f",
   "metadata": {},
   "source": [
    "# Data Preprocessing"
   ]
  },
  {
   "cell_type": "markdown",
   "id": "a354b64f-18c6-4268-87cd-8d246cc78b86",
   "metadata": {},
   "source": [
    "## Seperating Features and Target Value"
   ]
  },
  {
   "cell_type": "code",
   "execution_count": 4,
   "id": "2f500ad5-14a6-4cdf-8a1e-944d049b3267",
   "metadata": {},
   "outputs": [],
   "source": [
    "X = df.iloc[:,0:-1]\n",
    "y = df.iloc[:,-1]"
   ]
  },
  {
   "cell_type": "markdown",
   "id": "3e5a1bba-072b-49af-af3b-a92f6cc31994",
   "metadata": {},
   "source": [
    "## Generating age from the date of birth column"
   ]
  },
  {
   "cell_type": "code",
   "execution_count": 5,
   "id": "f39f57a3-b5fe-4293-8a45-a8b3b3fa2b4b",
   "metadata": {},
   "outputs": [],
   "source": [
    "X['dob'] = pd.to_datetime(X['dob'])\n",
    "\n",
    "# The reference date is the date the dataset was generated on\n",
    "reference_date = pd.Timestamp('2020-12-31')\n",
    "\n",
    "X['age'] = (reference_date - X['dob']).dt.days // 365"
   ]
  },
  {
   "cell_type": "code",
   "execution_count": 6,
   "id": "7ae92c61-ea8b-4a5d-a862-dfea9a10d98c",
   "metadata": {},
   "outputs": [
    {
     "name": "stdout",
     "output_type": "stream",
     "text": [
      "         dob  age\n",
      "0 1988-03-09   32\n",
      "1 1978-06-21   42\n",
      "2 1962-01-19   58\n",
      "3 1967-01-12   54\n",
      "4 1986-03-28   34\n"
     ]
    }
   ],
   "source": [
    "print(X[['dob', 'age']].head())"
   ]
  },
  {
   "cell_type": "markdown",
   "id": "858f92ad-4845-475c-9c8c-0913f9e7f57f",
   "metadata": {},
   "source": [
    "## Dropping Date of Birth column from features"
   ]
  },
  {
   "cell_type": "code",
   "execution_count": 7,
   "id": "0ccd26d1-8ff8-42b1-ab24-8e8eb0ef1cb4",
   "metadata": {},
   "outputs": [],
   "source": [
    "X = X.drop('dob', axis=1)"
   ]
  },
  {
   "cell_type": "code",
   "execution_count": 8,
   "id": "fcb26960-9443-46f2-8f39-0cab3f28123b",
   "metadata": {},
   "outputs": [
    {
     "data": {
      "text/plain": [
       "False"
      ]
     },
     "execution_count": 8,
     "metadata": {},
     "output_type": "execute_result"
    }
   ],
   "source": [
    "\"dob\" in X.columns"
   ]
  },
  {
   "cell_type": "markdown",
   "id": "650bf1ef-7edc-4932-a61d-42683059a8b5",
   "metadata": {},
   "source": [
    "## Generating transaction day of the week from the transaction date and time column"
   ]
  },
  {
   "cell_type": "code",
   "execution_count": 9,
   "id": "ead6502e-3fb3-494b-8909-62ac6f34af43",
   "metadata": {},
   "outputs": [],
   "source": [
    "X['trans_date_trans_time'] = pd.to_datetime(X['trans_date_trans_time'])\n",
    "X['trans_day_of_week'] = X['trans_date_trans_time'].dt.dayofweek"
   ]
  },
  {
   "cell_type": "code",
   "execution_count": 10,
   "id": "87dfbb17-3ebb-41eb-83a6-e342ebcc9316",
   "metadata": {},
   "outputs": [
    {
     "data": {
      "text/plain": [
       "array([1, 2, 3, 4, 5, 6, 0], dtype=int32)"
      ]
     },
     "execution_count": 10,
     "metadata": {},
     "output_type": "execute_result"
    }
   ],
   "source": [
    "X['trans_day_of_week'].unique()"
   ]
  },
  {
   "cell_type": "markdown",
   "id": "c79e309c-e69f-42e5-8358-52d9fd09ddee",
   "metadata": {},
   "source": [
    "## Generating transaction month from the transaction date and time column"
   ]
  },
  {
   "cell_type": "code",
   "execution_count": 11,
   "id": "a7a79f9a-b60d-4a78-90db-3d86406f8a1b",
   "metadata": {},
   "outputs": [],
   "source": [
    "X['trans_month'] = X['trans_date_trans_time'].dt.month"
   ]
  },
  {
   "cell_type": "code",
   "execution_count": 12,
   "id": "e3c06eab-61a4-4c3d-888b-a0ec8c3b2f67",
   "metadata": {},
   "outputs": [
    {
     "data": {
      "text/plain": [
       "array([ 1,  2,  3,  4,  5,  6,  7,  8,  9, 10, 11, 12], dtype=int32)"
      ]
     },
     "execution_count": 12,
     "metadata": {},
     "output_type": "execute_result"
    }
   ],
   "source": [
    "X['trans_month'].unique()"
   ]
  },
  {
   "cell_type": "markdown",
   "id": "75d998c5-f922-4bf2-b3fd-25d6d4cd7ed0",
   "metadata": {},
   "source": [
    "## Dropping transaction date and time column from features"
   ]
  },
  {
   "cell_type": "code",
   "execution_count": 13,
   "id": "afa5385a-a688-44a2-b56c-9f8fac75e4d3",
   "metadata": {},
   "outputs": [],
   "source": [
    "X = X.drop('trans_date_trans_time', axis=1)"
   ]
  },
  {
   "cell_type": "markdown",
   "id": "952caf17-e1a8-4e84-99b1-e9fa9686a813",
   "metadata": {},
   "source": [
    "## Dropping name columns from features"
   ]
  },
  {
   "cell_type": "code",
   "execution_count": 14,
   "id": "57a9bdbf-c225-4027-8acc-9de55395255c",
   "metadata": {},
   "outputs": [],
   "source": [
    "X = X.drop(columns=['first', 'last'])"
   ]
  },
  {
   "cell_type": "markdown",
   "id": "1f7c6f46-e664-4e6a-812c-1bd1cbd0d6da",
   "metadata": {},
   "source": [
    "## Dropping homogeneous columns"
   ]
  },
  {
   "cell_type": "code",
   "execution_count": 15,
   "id": "af3701d0-8dbf-45a1-afb8-02f33805a6b0",
   "metadata": {},
   "outputs": [],
   "source": [
    "X = X.drop(columns=['cc_num', 'merchant','job','street','trans_num'])"
   ]
  },
  {
   "cell_type": "code",
   "execution_count": null,
   "id": "727473c8-a5a1-4f31-8e92-46b5943c0bab",
   "metadata": {},
   "outputs": [],
   "source": []
  }
 ],
 "metadata": {
  "kernelspec": {
   "display_name": "Python 3 (ipykernel)",
   "language": "python",
   "name": "python3"
  },
  "language_info": {
   "codemirror_mode": {
    "name": "ipython",
    "version": 3
   },
   "file_extension": ".py",
   "mimetype": "text/x-python",
   "name": "python",
   "nbconvert_exporter": "python",
   "pygments_lexer": "ipython3",
   "version": "3.12.8"
  }
 },
 "nbformat": 4,
 "nbformat_minor": 5
}
